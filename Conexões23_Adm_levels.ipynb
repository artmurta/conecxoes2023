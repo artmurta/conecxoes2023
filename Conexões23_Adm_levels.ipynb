{
 "cells": [
  {
   "attachments": {},
   "cell_type": "markdown",
   "id": "27018b46",
   "metadata": {},
   "source": [
    "# REPRODUBILITY CODE FOR CONEÇÔES 2023 ARTICLE\n",
    "### Importing Libs and Data"
   ]
  },
  {
   "cell_type": "code",
   "execution_count": 1,
   "id": "43fa533e",
   "metadata": {},
   "outputs": [],
   "source": [
    "import numpy as np\n",
    "import pandas as pd\n",
    "from unidecode import unidecode\n",
    "import matplotlib.pyplot as plt\n",
    "data_in=pd.read_excel('PC11_TV_DIR.xlsx')"
   ]
  },
  {
   "cell_type": "markdown",
   "id": "e4aabb84",
   "metadata": {},
   "source": [
    "## Data treatment\n",
    "treating the data from India government to be like our company database"
   ]
  },
  {
   "cell_type": "code",
   "execution_count": 2,
   "id": "6040537f",
   "metadata": {},
   "outputs": [],
   "source": [
    "data_in['Town-Village Name_TR']=[unidecode(name).upper().replace(\"'\",\"\").replace(\"-\",\" \")\n",
    "                           .replace(\"&\",\"AND\").split(\" (\")[0] for name in data_in['Town-Village Name']]\n",
    "data_in['Sub District Code']=data_in['Sub District Code'].fillna(0)"
   ]
  },
  {
   "cell_type": "markdown",
   "id": "5bad214b",
   "metadata": {},
   "source": [
    "## Data manipulation\n",
    "Adding the name of State, District, and Sub District in each line"
   ]
  },
  {
   "cell_type": "code",
   "execution_count": 3,
   "id": "dd37f320",
   "metadata": {},
   "outputs": [],
   "source": [
    "states=data_in.drop_duplicates('State Code').set_index('State Code')['Town-Village Name_TR'].to_dict()\n",
    "data_in['State Name']=data_in.apply(lambda x:states[x['State Code']],axis=1)"
   ]
  },
  {
   "cell_type": "code",
   "execution_count": 4,
   "id": "72cf47b1",
   "metadata": {},
   "outputs": [],
   "source": [
    "District=data_in.drop_duplicates(['State Code','District Code']).query(\"`District Code`!=0\").set_index('District Code')['Town-Village Name_TR'].to_dict()\n",
    "District[0]=''\n",
    "data_in['District Name']=data_in.apply(lambda x:District[x['District Code']],axis=1)"
   ]
  },
  {
   "cell_type": "code",
   "execution_count": 5,
   "id": "c03bcf34",
   "metadata": {},
   "outputs": [],
   "source": [
    "subDistrict=data_in.drop_duplicates(['State Code','District Code','Sub District Code']).query(\"`Sub District Code`!=0\").set_index('Sub District Code')['Town-Village Name_TR'].to_dict()\n",
    "subDistrict[0]=''\n",
    "data_in['Sub District Name']=data_in.apply(lambda x:subDistrict[x['Sub District Code']],axis=1)"
   ]
  },
  {
   "cell_type": "markdown",
   "id": "7de447c5",
   "metadata": {},
   "source": [
    "At This moment the 'data_in' dataframe is like the tables of company's database"
   ]
  },
  {
   "cell_type": "code",
   "execution_count": 6,
   "id": "6f3cd9b9",
   "metadata": {},
   "outputs": [
    {
     "data": {
      "text/html": [
       "<div>\n",
       "<style scoped>\n",
       "    .dataframe tbody tr th:only-of-type {\n",
       "        vertical-align: middle;\n",
       "    }\n",
       "\n",
       "    .dataframe tbody tr th {\n",
       "        vertical-align: top;\n",
       "    }\n",
       "\n",
       "    .dataframe thead th {\n",
       "        text-align: right;\n",
       "    }\n",
       "</style>\n",
       "<table border=\"1\" class=\"dataframe\">\n",
       "  <thead>\n",
       "    <tr style=\"text-align: right;\">\n",
       "      <th></th>\n",
       "      <th>State Code</th>\n",
       "      <th>District Code</th>\n",
       "      <th>Sub District Code</th>\n",
       "      <th>Town-Village Code</th>\n",
       "      <th>Town-Village Name</th>\n",
       "      <th>Town-Village Name_TR</th>\n",
       "      <th>State Name</th>\n",
       "      <th>District Name</th>\n",
       "      <th>Sub District Name</th>\n",
       "    </tr>\n",
       "  </thead>\n",
       "  <tbody>\n",
       "    <tr>\n",
       "      <th>0</th>\n",
       "      <td>1</td>\n",
       "      <td>0</td>\n",
       "      <td>0.0</td>\n",
       "      <td>0</td>\n",
       "      <td>JAMMU &amp; KASHMIR</td>\n",
       "      <td>JAMMU AND KASHMIR</td>\n",
       "      <td>JAMMU AND KASHMIR</td>\n",
       "      <td></td>\n",
       "      <td></td>\n",
       "    </tr>\n",
       "    <tr>\n",
       "      <th>1</th>\n",
       "      <td>1</td>\n",
       "      <td>0</td>\n",
       "      <td>0.0</td>\n",
       "      <td>800013</td>\n",
       "      <td>Srinagar (M Corp. + OG)</td>\n",
       "      <td>SRINAGAR</td>\n",
       "      <td>JAMMU AND KASHMIR</td>\n",
       "      <td></td>\n",
       "      <td></td>\n",
       "    </tr>\n",
       "    <tr>\n",
       "      <th>2</th>\n",
       "      <td>1</td>\n",
       "      <td>0</td>\n",
       "      <td>0.0</td>\n",
       "      <td>800033</td>\n",
       "      <td>Anantnag (M Cl + OG)</td>\n",
       "      <td>ANANTNAG</td>\n",
       "      <td>JAMMU AND KASHMIR</td>\n",
       "      <td></td>\n",
       "      <td></td>\n",
       "    </tr>\n",
       "    <tr>\n",
       "      <th>3</th>\n",
       "      <td>1</td>\n",
       "      <td>1</td>\n",
       "      <td>0.0</td>\n",
       "      <td>0</td>\n",
       "      <td>Kupwara</td>\n",
       "      <td>KUPWARA</td>\n",
       "      <td>JAMMU AND KASHMIR</td>\n",
       "      <td>KUPWARA</td>\n",
       "      <td></td>\n",
       "    </tr>\n",
       "    <tr>\n",
       "      <th>4</th>\n",
       "      <td>1</td>\n",
       "      <td>1</td>\n",
       "      <td>1.0</td>\n",
       "      <td>0</td>\n",
       "      <td>Kupwara</td>\n",
       "      <td>KUPWARA</td>\n",
       "      <td>JAMMU AND KASHMIR</td>\n",
       "      <td>KUPWARA</td>\n",
       "      <td>KUPWARA</td>\n",
       "    </tr>\n",
       "  </tbody>\n",
       "</table>\n",
       "</div>"
      ],
      "text/plain": [
       "   State Code  District Code  Sub District Code  Town-Village Code  \\\n",
       "0           1              0                0.0                  0   \n",
       "1           1              0                0.0             800013   \n",
       "2           1              0                0.0             800033   \n",
       "3           1              1                0.0                  0   \n",
       "4           1              1                1.0                  0   \n",
       "\n",
       "         Town-Village Name Town-Village Name_TR         State Name  \\\n",
       "0          JAMMU & KASHMIR    JAMMU AND KASHMIR  JAMMU AND KASHMIR   \n",
       "1  Srinagar (M Corp. + OG)             SRINAGAR  JAMMU AND KASHMIR   \n",
       "2     Anantnag (M Cl + OG)             ANANTNAG  JAMMU AND KASHMIR   \n",
       "3                  Kupwara              KUPWARA  JAMMU AND KASHMIR   \n",
       "4                  Kupwara              KUPWARA  JAMMU AND KASHMIR   \n",
       "\n",
       "  District Name Sub District Name  \n",
       "0                                  \n",
       "1                                  \n",
       "2                                  \n",
       "3       KUPWARA                    \n",
       "4       KUPWARA           KUPWARA  "
      ]
     },
     "execution_count": 6,
     "metadata": {},
     "output_type": "execute_result"
    }
   ],
   "source": [
    "data_in.head()"
   ]
  },
  {
   "cell_type": "markdown",
   "id": "f1239431",
   "metadata": {},
   "source": [
    "## Extracting Data for 2, 3 and 4 Adm Levels counting the confusion cases"
   ]
  },
  {
   "cell_type": "code",
   "execution_count": 7,
   "id": "598267d5",
   "metadata": {},
   "outputs": [
    {
     "name": "stdout",
     "output_type": "stream",
     "text": [
      "Number of confusion cases inside a State 236259\n"
     ]
    }
   ],
   "source": [
    "state_cc=0\n",
    "for i in range(max(data_in['State Code'])):\n",
    "    ST=data_in.query(\"`State Code`==\"+str(i))\n",
    "    dupli=ST[ST.duplicated(\"Town-Village Name_TR\",False)]\n",
    "    if len(dupli)>0:\n",
    "        state_cc+=len(dupli)\n",
    "print(\"Number of confusion cases inside a State\",state_cc)"
   ]
  },
  {
   "cell_type": "code",
   "execution_count": 8,
   "id": "1a007481",
   "metadata": {},
   "outputs": [
    {
     "data": {
      "image/png": "[encoded data removed]",
      "text/plain": [
       "<Figure size 500x500 with 1 Axes>"
      ]
     },
     "metadata": {},
     "output_type": "display_data"
    }
   ],
   "source": [
    "total_villages = len(data_in.drop_duplicates('Town-Village Code'))\n",
    "state_wo_cc = total_villages  - state_cc\n",
    "data = (state_cc, state_wo_cc)\n",
    "fig = plt.figure(figsize =(5, 5))\n",
    "patches = plt.pie(data, autopct='%1.0f%%')\n",
    "plt.tight_layout()\n",
    "plt.legend(labels=['confusion cases', 'States without confusion'])\n",
    "plt.show()"
   ]
  },
  {
   "cell_type": "code",
   "execution_count": 9,
   "id": "9aa10927",
   "metadata": {},
   "outputs": [
    {
     "name": "stdout",
     "output_type": "stream",
     "text": [
      "Number of confusion cases inside a District 119985\n"
     ]
    }
   ],
   "source": [
    "district_cc=0\n",
    "for i in range(max(data_in['District Code'])):\n",
    "    DT=data_in.query(\"`District Code`==\"+str(i))\n",
    "    dupli=DT[DT.duplicated(\"Town-Village Name_TR\",False)]\n",
    "    if len(dupli)>0:\n",
    "        district_cc+=len(dupli)\n",
    "print(\"Number of confusion cases inside a District\",district_cc)"
   ]
  },
  {
   "cell_type": "code",
   "execution_count": 10,
   "id": "d3943fe9",
   "metadata": {},
   "outputs": [
    {
     "data": {
      "image/png": "[encoded data removed]",
      "text/plain": [
       "<Figure size 500x500 with 1 Axes>"
      ]
     },
     "metadata": {},
     "output_type": "display_data"
    }
   ],
   "source": [
    "district_wo_cc = total_villages  - district_cc\n",
    "data = (district_cc, district_wo_cc)\n",
    "fig = plt.figure(figsize =(5, 5)) \n",
    "patches= plt.pie(data, autopct='%1.0f%%') \n",
    "plt.tight_layout()\n",
    "plt.legend( labels=['confusion cases', 'Districts without confusion'])\n",
    "plt.show()"
   ]
  },
  {
   "cell_type": "code",
   "execution_count": 11,
   "id": "76fa87ff",
   "metadata": {},
   "outputs": [
    {
     "name": "stdout",
     "output_type": "stream",
     "text": [
      "Number of confusion cases inside a subdistrict 39281\n"
     ]
    }
   ],
   "source": [
    "subdistrict_cc=0\n",
    "for i in range(int(data_in['Sub District Code'].iloc[-1])):\n",
    "    SD=data_in.query(\"`Sub District Code`==\"+str(i))\n",
    "    dupli=SD[SD.duplicated(\"Town-Village Name_TR\",False)]\n",
    "    if len(dupli)>0:\n",
    "        subdistrict_cc+=len(dupli)\n",
    "print(\"Number of confusion cases inside a subdistrict\",subdistrict_cc)"
   ]
  },
  {
   "cell_type": "code",
   "execution_count": 12,
   "id": "af957230",
   "metadata": {},
   "outputs": [
    {
     "data": {
      "image/png": "[encoded data removed]",
      "text/plain": [
       "<Figure size 500x500 with 1 Axes>"
      ]
     },
     "metadata": {},
     "output_type": "display_data"
    }
   ],
   "source": [
    "subdistrict_wo_cc = total_villages  - subdistrict_cc\n",
    "data = (subdistrict_cc, subdistrict_wo_cc)\n",
    "fig = plt.figure(figsize =(5, 5)) \n",
    "patches= plt.pie(data, autopct='%1.0f%%') \n",
    "plt.tight_layout()\n",
    "plt.legend( labels=['confusion cases', 'Subdistricts without confusion'])\n",
    "plt.show()"
   ]
  }
 ],
 "metadata": {
  "kernelspec": {
   "display_name": "tf",
   "language": "python",
   "name": "python3"
  },
  "language_info": {
   "codemirror_mode": {
    "name": "ipython",
    "version": 3
   },
   "file_extension": ".py",
   "mimetype": "text/x-python",
   "name": "python",
   "nbconvert_exporter": "python",
   "pygments_lexer": "ipython3",
   "version": "3.9.15"
  },
  "vscode": {
   "interpreter": {
    "hash": "860b6bcb4343a9ae8e494c4d5302a3b7110cd584075a3e0722e76cdb4799c365"
   }
  }
 },
 "nbformat": 4,
 "nbformat_minor": 5
}
